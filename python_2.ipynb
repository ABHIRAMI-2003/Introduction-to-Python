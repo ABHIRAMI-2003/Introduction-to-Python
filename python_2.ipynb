{
  "nbformat": 4,
  "nbformat_minor": 0,
  "metadata": {
    "colab": {
      "provenance": [],
      "authorship_tag": "ABX9TyM/RIJFcr3o2MdgDl5tuadX",
      "include_colab_link": true
    },
    "kernelspec": {
      "name": "python3",
      "display_name": "Python 3"
    },
    "language_info": {
      "name": "python"
    }
  },
  "cells": [
    {
      "cell_type": "markdown",
      "metadata": {
        "id": "view-in-github",
        "colab_type": "text"
      },
      "source": [
        "<a href=\"https://colab.research.google.com/github/ABHIRAMI-2003/Introduction-to-Python/blob/main/python_2.ipynb\" target=\"_parent\"><img src=\"https://colab.research.google.com/assets/colab-badge.svg\" alt=\"Open In Colab\"/></a>"
      ]
    },
    {
      "cell_type": "code",
      "execution_count": 1,
      "metadata": {
        "colab": {
          "base_uri": "https://localhost:8080/"
        },
        "id": "mo7cH6S9q8g8",
        "outputId": "14ae2494-e4fb-4c9d-af85-65b93a87b154"
      },
      "outputs": [
        {
          "output_type": "stream",
          "name": "stdout",
          "text": [
            "60\n",
            "500\n",
            "5.0\n",
            "40\n"
          ]
        }
      ],
      "source": [
        "x=50\n",
        "y=10\n",
        "print(x+y)\n",
        "print(x*y)\n",
        "print(x/y)\n",
        "print(x-y)\n"
      ]
    },
    {
      "cell_type": "code",
      "source": [
        "x='abhirami'\n",
        "y='p s'\n",
        "print(x+y)\n"
      ],
      "metadata": {
        "colab": {
          "base_uri": "https://localhost:8080/"
        },
        "id": "DDS7XBLjrW20",
        "outputId": "c7b86b0a-3ee4-4f67-985f-6a616f8ced9d"
      },
      "execution_count": 3,
      "outputs": [
        {
          "output_type": "stream",
          "name": "stdout",
          "text": [
            "abhiramip s\n"
          ]
        }
      ]
    },
    {
      "cell_type": "code",
      "source": [
        "x='abhirami'\n",
        "y='p s'\n",
        "print(x+' '+y)"
      ],
      "metadata": {
        "colab": {
          "base_uri": "https://localhost:8080/"
        },
        "id": "CKtHCEAHrpvU",
        "outputId": "95a58e2b-142c-4ddb-80ca-198c71093273"
      },
      "execution_count": 4,
      "outputs": [
        {
          "output_type": "stream",
          "name": "stdout",
          "text": [
            "abhirami p s\n"
          ]
        }
      ]
    },
    {
      "cell_type": "code",
      "source": [
        "a='india'\n",
        "b='is'\n",
        "c='my'\n",
        "d='country'\n",
        "print(a+b+c+d)\n",
        "print(a+' '+b+' '+c+' '+d)"
      ],
      "metadata": {
        "colab": {
          "base_uri": "https://localhost:8080/"
        },
        "id": "U5KM5Zeur5d5",
        "outputId": "ef713bca-713c-4de3-f2ba-5789ff7efcc3"
      },
      "execution_count": 5,
      "outputs": [
        {
          "output_type": "stream",
          "name": "stdout",
          "text": [
            "indiaismycountry\n",
            "india is my country\n"
          ]
        }
      ]
    },
    {
      "cell_type": "code",
      "source": [],
      "metadata": {
        "id": "168MkR4psVY2"
      },
      "execution_count": null,
      "outputs": []
    }
  ]
}