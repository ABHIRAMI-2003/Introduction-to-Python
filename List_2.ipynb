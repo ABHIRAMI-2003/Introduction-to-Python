{
  "nbformat": 4,
  "nbformat_minor": 0,
  "metadata": {
    "colab": {
      "provenance": [],
      "authorship_tag": "ABX9TyOHK/1psJPBnAVOVuz3gACe",
      "include_colab_link": true
    },
    "kernelspec": {
      "name": "python3",
      "display_name": "Python 3"
    },
    "language_info": {
      "name": "python"
    }
  },
  "cells": [
    {
      "cell_type": "markdown",
      "metadata": {
        "id": "view-in-github",
        "colab_type": "text"
      },
      "source": [
        "<a href=\"https://colab.research.google.com/github/ABHIRAMI-2003/Introduction-to-Python/blob/main/List_2.ipynb\" target=\"_parent\"><img src=\"https://colab.research.google.com/assets/colab-badge.svg\" alt=\"Open In Colab\"/></a>"
      ]
    },
    {
      "cell_type": "code",
      "execution_count": 3,
      "metadata": {
        "colab": {
          "base_uri": "https://localhost:8080/"
        },
        "id": "F310qlFoEaT8",
        "outputId": "e7855703-6e59-43c3-b080-b0eab32bca71"
      },
      "outputs": [
        {
          "output_type": "stream",
          "name": "stdout",
          "text": [
            "[4, 'Abhirami', 18, '26-11-2003', 'Chazhur']\n"
          ]
        }
      ],
      "source": [
        "x=[4,'Abhirami',18,'26-11-2003','Chazhur']\n",
        "print(x)"
      ]
    },
    {
      "cell_type": "code",
      "source": [
        "x[1]"
      ],
      "metadata": {
        "colab": {
          "base_uri": "https://localhost:8080/",
          "height": 35
        },
        "id": "Y29xLEX_F7fK",
        "outputId": "f0214569-30a3-44b4-9d16-c880707ef696"
      },
      "execution_count": 5,
      "outputs": [
        {
          "output_type": "execute_result",
          "data": {
            "text/plain": [
              "'Abhirami'"
            ],
            "application/vnd.google.colaboratory.intrinsic+json": {
              "type": "string"
            }
          },
          "metadata": {},
          "execution_count": 5
        }
      ]
    },
    {
      "cell_type": "code",
      "source": [
        "x[0]"
      ],
      "metadata": {
        "colab": {
          "base_uri": "https://localhost:8080/"
        },
        "id": "KXDSomOWIBhe",
        "outputId": "efc3192e-169e-4b58-e699-ae9e2c466009"
      },
      "execution_count": 6,
      "outputs": [
        {
          "output_type": "execute_result",
          "data": {
            "text/plain": [
              "4"
            ]
          },
          "metadata": {},
          "execution_count": 6
        }
      ]
    },
    {
      "cell_type": "code",
      "source": [
        "x[-2]"
      ],
      "metadata": {
        "colab": {
          "base_uri": "https://localhost:8080/",
          "height": 35
        },
        "id": "OTjxl6ylINAW",
        "outputId": "d16b4fcd-4871-4ec3-c81e-db1561a09e11"
      },
      "execution_count": 7,
      "outputs": [
        {
          "output_type": "execute_result",
          "data": {
            "text/plain": [
              "'26-11-2003'"
            ],
            "application/vnd.google.colaboratory.intrinsic+json": {
              "type": "string"
            }
          },
          "metadata": {},
          "execution_count": 7
        }
      ]
    },
    {
      "cell_type": "code",
      "source": [
        "x.append('Thrissur')\n",
        "print(x)"
      ],
      "metadata": {
        "colab": {
          "base_uri": "https://localhost:8080/"
        },
        "id": "9DhQWV2UJow-",
        "outputId": "887b3d5e-0aae-419b-d43b-62e3aee6fc2f"
      },
      "execution_count": 11,
      "outputs": [
        {
          "output_type": "stream",
          "name": "stdout",
          "text": [
            "[4, 'Abhirami', 18, '26-11-2003', 'Chazhur', 'Thrissur', 'Kerala', 'Thrissur', 'Thrissur']\n"
          ]
        }
      ]
    },
    {
      "cell_type": "code",
      "source": [
        "x.insert(2,'Kerala')\n",
        "print(x)"
      ],
      "metadata": {
        "colab": {
          "base_uri": "https://localhost:8080/"
        },
        "id": "X3U4Ae_aJ4YG",
        "outputId": "719365ff-083f-4191-903c-370570bd29a0"
      },
      "execution_count": 12,
      "outputs": [
        {
          "output_type": "stream",
          "name": "stdout",
          "text": [
            "[4, 'Abhirami', 'Kerala', 18, '26-11-2003', 'Chazhur', 'Thrissur', 'Kerala', 'Thrissur', 'Thrissur']\n"
          ]
        }
      ]
    },
    {
      "cell_type": "code",
      "source": [
        "del x[7]\n",
        "print(x)"
      ],
      "metadata": {
        "colab": {
          "base_uri": "https://localhost:8080/"
        },
        "id": "42HURayHKFGW",
        "outputId": "ec1c1cc6-edaa-4d53-ca9e-15c3fca552f9"
      },
      "execution_count": 14,
      "outputs": [
        {
          "output_type": "stream",
          "name": "stdout",
          "text": [
            "[4, 'Abhirami', 'Kerala', 18, '26-11-2003', 'Chazhur', 'Thrissur', 'Thrissur']\n"
          ]
        }
      ]
    },
    {
      "cell_type": "code",
      "source": [
        "del x[6]\n",
        "print(x)"
      ],
      "metadata": {
        "colab": {
          "base_uri": "https://localhost:8080/"
        },
        "id": "C7-hU2rZKv82",
        "outputId": "b5e8b2ac-9ba7-469b-e115-deedcd43b10f"
      },
      "execution_count": 16,
      "outputs": [
        {
          "output_type": "stream",
          "name": "stdout",
          "text": [
            "[4, 'Abhirami', 'Kerala', 18, '26-11-2003', 'Chazhur', 'Thrissur']\n"
          ]
        }
      ]
    },
    {
      "cell_type": "code",
      "source": [
        "x=int(input('Enter a mark'))\n",
        "x=50\n",
        "if x>=50:\n",
        "  print('pass')\n",
        "else:\n",
        "  print('fail')"
      ],
      "metadata": {
        "colab": {
          "base_uri": "https://localhost:8080/"
        },
        "id": "NtqTuBAOK8D1",
        "outputId": "95746f23-c960-4c0b-d0a7-3641892c92b7"
      },
      "execution_count": 25,
      "outputs": [
        {
          "output_type": "stream",
          "name": "stdout",
          "text": [
            "Enter a mark56\n",
            "pass\n"
          ]
        }
      ]
    },
    {
      "cell_type": "code",
      "source": [
        "x=['jovi','lakzz','chechizz']\n",
        "print(x)\n",
        "y=input('enter a name')\n",
        "x.append(y)\n",
        "print(x)"
      ],
      "metadata": {
        "colab": {
          "base_uri": "https://localhost:8080/"
        },
        "id": "CO3Din-LNVtO",
        "outputId": "2b9b9f43-8ba6-4c80-8a81-c930c79b388d"
      },
      "execution_count": 34,
      "outputs": [
        {
          "output_type": "stream",
          "name": "stdout",
          "text": [
            "['jovi', 'lakzz', 'chechizz']\n",
            "enter a nameabhi\n",
            "['jovi', 'lakzz', 'chechizz', 'abhi']\n"
          ]
        }
      ]
    },
    {
      "cell_type": "code",
      "source": [
        "del x[3]\n",
        "print(x)"
      ],
      "metadata": {
        "colab": {
          "base_uri": "https://localhost:8080/"
        },
        "id": "3KunY1UMSauM",
        "outputId": "4d216f96-716b-4481-ec04-81d93c99ae81"
      },
      "execution_count": 39,
      "outputs": [
        {
          "output_type": "stream",
          "name": "stdout",
          "text": [
            "['jovi', 'lakzz', 'chechizz']\n"
          ]
        }
      ]
    },
    {
      "cell_type": "code",
      "source": [
        "x=['jovi','lakzz','chechizz']\n",
        "print(x)\n",
        "y=input('enter a name')\n",
        "x.insert(int(input('enter a number')),y)\n",
        "print(x)"
      ],
      "metadata": {
        "colab": {
          "base_uri": "https://localhost:8080/"
        },
        "id": "r7nCiY0Ucxhb",
        "outputId": "a94a08ee-b7bc-4572-e725-cc4d7cd1be55"
      },
      "execution_count": 41,
      "outputs": [
        {
          "output_type": "stream",
          "name": "stdout",
          "text": [
            "['jovi', 'lakzz', 'chechizz']\n",
            "enter a namejiji\n",
            "enter a number2\n",
            "['jovi', 'lakzz', 'jiji', 'chechizz']\n"
          ]
        }
      ]
    },
    {
      "cell_type": "code",
      "source": [],
      "metadata": {
        "id": "blYijIu_dA9i"
      },
      "execution_count": null,
      "outputs": []
    }
  ]
}