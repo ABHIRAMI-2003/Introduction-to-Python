{
  "nbformat": 4,
  "nbformat_minor": 0,
  "metadata": {
    "colab": {
      "provenance": [],
      "authorship_tag": "ABX9TyP39HRohbKOMFZ1E7gc+/Gc",
      "include_colab_link": true
    },
    "kernelspec": {
      "name": "python3",
      "display_name": "Python 3"
    },
    "language_info": {
      "name": "python"
    }
  },
  "cells": [
    {
      "cell_type": "markdown",
      "metadata": {
        "id": "view-in-github",
        "colab_type": "text"
      },
      "source": [
        "<a href=\"https://colab.research.google.com/github/ABHIRAMI-2003/Introduction-to-Python/blob/main/python_5_odd_and_even.ipynb\" target=\"_parent\"><img src=\"https://colab.research.google.com/assets/colab-badge.svg\" alt=\"Open In Colab\"/></a>"
      ]
    },
    {
      "cell_type": "code",
      "execution_count": 9,
      "metadata": {
        "colab": {
          "base_uri": "https://localhost:8080/"
        },
        "id": "2PChldjFZnrT",
        "outputId": "8118e2a5-c4e3-4e95-8408-ccc9659916e0"
      },
      "outputs": [
        {
          "output_type": "stream",
          "name": "stdout",
          "text": [
            "2\n",
            "4\n",
            "6\n",
            "8\n",
            "10\n",
            "12\n",
            "14\n",
            "16\n",
            "18\n",
            "20\n",
            "22\n",
            "24\n",
            "26\n",
            "28\n",
            "30\n",
            "32\n",
            "34\n",
            "36\n",
            "38\n",
            "40\n",
            "42\n",
            "44\n",
            "46\n",
            "48\n",
            "50\n",
            "52\n",
            "54\n",
            "56\n",
            "58\n",
            "60\n",
            "62\n",
            "64\n",
            "66\n",
            "68\n",
            "70\n",
            "72\n",
            "74\n",
            "76\n",
            "78\n",
            "80\n",
            "82\n",
            "84\n",
            "86\n",
            "88\n",
            "90\n",
            "92\n",
            "94\n",
            "96\n",
            "98\n"
          ]
        }
      ],
      "source": [
        "x=0\n",
        "y=0\n",
        "for x in range(1,100):\n",
        "  if x%2==0:\n",
        "    y=y+x\n",
        "    print(x)"
      ]
    },
    {
      "cell_type": "code",
      "source": [
        "x=[76,34,24,76,87,12,34,51,67,90]\n",
        "for y in x:\n",
        "  print(y)"
      ],
      "metadata": {
        "colab": {
          "base_uri": "https://localhost:8080/"
        },
        "id": "LfeipF8vcwVP",
        "outputId": "c7e92fd0-0aab-489f-a831-aff0ca990576"
      },
      "execution_count": 15,
      "outputs": [
        {
          "output_type": "stream",
          "name": "stdout",
          "text": [
            "76\n",
            "34\n",
            "24\n",
            "76\n",
            "87\n",
            "12\n",
            "34\n",
            "51\n",
            "67\n",
            "90\n"
          ]
        }
      ]
    },
    {
      "cell_type": "code",
      "source": [
        "10%2"
      ],
      "metadata": {
        "colab": {
          "base_uri": "https://localhost:8080/"
        },
        "id": "HFqCX3eKdJ-X",
        "outputId": "e181bc29-0376-4ef4-9cd1-85775591eea7"
      },
      "execution_count": 17,
      "outputs": [
        {
          "output_type": "execute_result",
          "data": {
            "text/plain": [
              "0"
            ]
          },
          "metadata": {},
          "execution_count": 17
        }
      ]
    },
    {
      "cell_type": "code",
      "source": [
        "x=[76,34,24,76,87,12,34,51,67,90]\n",
        "y=0\n",
        "for y in x:\n",
        "  if y%2==0:\n",
        "   print(y)"
      ],
      "metadata": {
        "colab": {
          "base_uri": "https://localhost:8080/"
        },
        "id": "5MB-1BUweKeX",
        "outputId": "faf47f15-ef19-4b23-a839-ccadbd50505f"
      },
      "execution_count": 26,
      "outputs": [
        {
          "output_type": "stream",
          "name": "stdout",
          "text": [
            "76\n",
            "34\n",
            "24\n",
            "76\n",
            "12\n",
            "34\n",
            "90\n"
          ]
        }
      ]
    },
    {
      "cell_type": "code",
      "source": [
        "x=[76,34,24,76,87,12,34,51,67,90]\n",
        "y=3\n",
        "for y in x:\n",
        "  if y%2==1:\n",
        "   print(y)"
      ],
      "metadata": {
        "colab": {
          "base_uri": "https://localhost:8080/"
        },
        "id": "nrN1p6BWeeoG",
        "outputId": "bb2dad0c-83bc-491f-e969-374601f1df8f"
      },
      "execution_count": 31,
      "outputs": [
        {
          "output_type": "stream",
          "name": "stdout",
          "text": [
            "87\n",
            "51\n",
            "67\n"
          ]
        }
      ]
    },
    {
      "cell_type": "code",
      "source": [],
      "metadata": {
        "id": "7N4orq_WgXqP"
      },
      "execution_count": 32,
      "outputs": []
    }
  ]
}