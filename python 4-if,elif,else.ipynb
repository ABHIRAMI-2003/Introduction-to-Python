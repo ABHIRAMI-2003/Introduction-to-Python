{
  "nbformat": 4,
  "nbformat_minor": 0,
  "metadata": {
    "colab": {
      "provenance": [],
      "authorship_tag": "ABX9TyPw/nbcwx4KOzGKOLy3Ftc7",
      "include_colab_link": true
    },
    "kernelspec": {
      "name": "python3",
      "display_name": "Python 3"
    },
    "language_info": {
      "name": "python"
    }
  },
  "cells": [
    {
      "cell_type": "markdown",
      "metadata": {
        "id": "view-in-github",
        "colab_type": "text"
      },
      "source": [
        "<a href=\"https://colab.research.google.com/github/ABHIRAMI-2003/Introduction-to-Python/blob/main/python%204-if%2Celif%2Celse.ipynb\" target=\"_parent\"><img src=\"https://colab.research.google.com/assets/colab-badge.svg\" alt=\"Open In Colab\"/></a>"
      ]
    },
    {
      "cell_type": "code",
      "execution_count": 1,
      "metadata": {
        "colab": {
          "base_uri": "https://localhost:8080/"
        },
        "id": "3J3m3lyWE-lg",
        "outputId": "36566760-b91d-47f7-ebf4-5278d78d7d16"
      },
      "outputs": [
        {
          "output_type": "stream",
          "name": "stdout",
          "text": [
            "0\n",
            "1\n",
            "2\n",
            "3\n",
            "4\n",
            "5\n",
            "6\n",
            "7\n",
            "8\n",
            "9\n"
          ]
        }
      ],
      "source": [
        "for abhirami in range(10):\n",
        "  print(abhirami)"
      ]
    },
    {
      "cell_type": "code",
      "source": [
        "x=0\n",
        "y=0\n",
        "for x in range(10):\n",
        "  y=y+x\n",
        "  print(y)"
      ],
      "metadata": {
        "colab": {
          "base_uri": "https://localhost:8080/"
        },
        "id": "Z4fO-_FFFqHR",
        "outputId": "6a8a8eed-4194-443b-d1e1-c1f724f42ea5"
      },
      "execution_count": 2,
      "outputs": [
        {
          "output_type": "stream",
          "name": "stdout",
          "text": [
            "0\n",
            "1\n",
            "3\n",
            "6\n",
            "10\n",
            "15\n",
            "21\n",
            "28\n",
            "36\n",
            "45\n"
          ]
        }
      ]
    },
    {
      "cell_type": "code",
      "source": [],
      "metadata": {
        "id": "3my_eo9LIl3Z"
      },
      "execution_count": 2,
      "outputs": []
    },
    {
      "cell_type": "code",
      "source": [
        "x=1\n",
        "y=1\n",
        "for x in range(1,10):\n",
        "  y=y*x\n",
        "  print(y)"
      ],
      "metadata": {
        "colab": {
          "base_uri": "https://localhost:8080/"
        },
        "outputId": "42412da1-3630-459e-e919-b7502c0fa2ac",
        "id": "NKqxOKwBJvca"
      },
      "execution_count": 3,
      "outputs": [
        {
          "output_type": "stream",
          "name": "stdout",
          "text": [
            "1\n",
            "2\n",
            "6\n",
            "24\n",
            "120\n",
            "720\n",
            "5040\n",
            "40320\n",
            "362880\n"
          ]
        }
      ]
    },
    {
      "cell_type": "code",
      "source": [
        "x=1\n",
        "y=1\n",
        "for x in range(100):\n",
        "  y=y+x\n",
        "  print(y)"
      ],
      "metadata": {
        "colab": {
          "base_uri": "https://localhost:8080/"
        },
        "id": "gQBrcE6gKDVv",
        "outputId": "1c290bfe-71a7-4e9f-8b70-c24f888afd09"
      },
      "execution_count": 4,
      "outputs": [
        {
          "output_type": "stream",
          "name": "stdout",
          "text": [
            "1\n",
            "2\n",
            "4\n",
            "7\n",
            "11\n",
            "16\n",
            "22\n",
            "29\n",
            "37\n",
            "46\n",
            "56\n",
            "67\n",
            "79\n",
            "92\n",
            "106\n",
            "121\n",
            "137\n",
            "154\n",
            "172\n",
            "191\n",
            "211\n",
            "232\n",
            "254\n",
            "277\n",
            "301\n",
            "326\n",
            "352\n",
            "379\n",
            "407\n",
            "436\n",
            "466\n",
            "497\n",
            "529\n",
            "562\n",
            "596\n",
            "631\n",
            "667\n",
            "704\n",
            "742\n",
            "781\n",
            "821\n",
            "862\n",
            "904\n",
            "947\n",
            "991\n",
            "1036\n",
            "1082\n",
            "1129\n",
            "1177\n",
            "1226\n",
            "1276\n",
            "1327\n",
            "1379\n",
            "1432\n",
            "1486\n",
            "1541\n",
            "1597\n",
            "1654\n",
            "1712\n",
            "1771\n",
            "1831\n",
            "1892\n",
            "1954\n",
            "2017\n",
            "2081\n",
            "2146\n",
            "2212\n",
            "2279\n",
            "2347\n",
            "2416\n",
            "2486\n",
            "2557\n",
            "2629\n",
            "2702\n",
            "2776\n",
            "2851\n",
            "2927\n",
            "3004\n",
            "3082\n",
            "3161\n",
            "3241\n",
            "3322\n",
            "3404\n",
            "3487\n",
            "3571\n",
            "3656\n",
            "3742\n",
            "3829\n",
            "3917\n",
            "4006\n",
            "4096\n",
            "4187\n",
            "4279\n",
            "4372\n",
            "4466\n",
            "4561\n",
            "4657\n",
            "4754\n",
            "4852\n",
            "4951\n"
          ]
        }
      ]
    },
    {
      "cell_type": "code",
      "source": [
        "10%2"
      ],
      "metadata": {
        "colab": {
          "base_uri": "https://localhost:8080/"
        },
        "id": "93nLhMebLME-",
        "outputId": "ef2a0dde-cd36-4006-e35d-54af8bcbdb1f"
      },
      "execution_count": 5,
      "outputs": [
        {
          "output_type": "execute_result",
          "data": {
            "text/plain": [
              "0"
            ]
          },
          "metadata": {},
          "execution_count": 5
        }
      ]
    },
    {
      "cell_type": "code",
      "source": [
        "11%2"
      ],
      "metadata": {
        "colab": {
          "base_uri": "https://localhost:8080/"
        },
        "id": "ALxYZrEKMt_2",
        "outputId": "f43ef6d7-0608-4085-b57b-52d3fc3d2d2b"
      },
      "execution_count": 6,
      "outputs": [
        {
          "output_type": "execute_result",
          "data": {
            "text/plain": [
              "1"
            ]
          },
          "metadata": {},
          "execution_count": 6
        }
      ]
    },
    {
      "cell_type": "code",
      "source": [
        "a=int(input('enter number'))\n",
        "b=int(input('enter number'))\n",
        "if b > a:\n",
        "  print(\"b is greater than a\")"
      ],
      "metadata": {
        "colab": {
          "base_uri": "https://localhost:8080/"
        },
        "id": "Z2B6WRbrMzmP",
        "outputId": "82ccdf57-85de-4aae-cb4a-6559cd20c9d4"
      },
      "execution_count": 7,
      "outputs": [
        {
          "output_type": "stream",
          "name": "stdout",
          "text": [
            "enter number54\n",
            "enter number76\n",
            "b is greater than a\n"
          ]
        }
      ]
    },
    {
      "cell_type": "code",
      "source": [
        "a=int(input('enter number'))\n",
        "b=int(input('enter number'))\n",
        "if b>a:\n",
        "  print(\"b is greater than a\")\n",
        "elif a==b:\n",
        "  print(\"a and b are equal\")"
      ],
      "metadata": {
        "colab": {
          "base_uri": "https://localhost:8080/"
        },
        "id": "tyeNLINpP7wi",
        "outputId": "517e6aae-0662-4ee0-d3e8-274ce3cb37bf"
      },
      "execution_count": 8,
      "outputs": [
        {
          "output_type": "stream",
          "name": "stdout",
          "text": [
            "enter number67\n",
            "enter number98\n",
            "b is greater than a\n"
          ]
        }
      ]
    },
    {
      "cell_type": "code",
      "source": [
        "a=int(input('enter number'))\n",
        "b=int(input('enter number'))\n",
        "if b>a:\n",
        "  print(\"b is greater than a\")\n",
        "else:\n",
        "  print(\"b is not greater than a\")"
      ],
      "metadata": {
        "colab": {
          "base_uri": "https://localhost:8080/"
        },
        "id": "MWszBGGERTP_",
        "outputId": "aa07d316-5b41-4745-8535-870856758de0"
      },
      "execution_count": 10,
      "outputs": [
        {
          "output_type": "stream",
          "name": "stdout",
          "text": [
            "enter number90\n",
            "enter number98\n",
            "b is greater than a\n"
          ]
        }
      ]
    },
    {
      "cell_type": "code",
      "source": [
        "a=int(input('enter number'))\n",
        "b=int(input('enter number'))\n",
        "if b>a:\n",
        "  print(\"b is greater than a\")\n",
        "elif a==b:\n",
        "  print(\"a and b are equal\")\n",
        "else:\n",
        "  print(\"a is greater than b\")"
      ],
      "metadata": {
        "colab": {
          "base_uri": "https://localhost:8080/"
        },
        "id": "cbV91JYKSlxv",
        "outputId": "a6c490fb-e752-4403-c428-5aff8274c318"
      },
      "execution_count": 12,
      "outputs": [
        {
          "output_type": "stream",
          "name": "stdout",
          "text": [
            "enter number89\n",
            "enter number67\n",
            "a is greater than b\n"
          ]
        }
      ]
    }
  ]
}