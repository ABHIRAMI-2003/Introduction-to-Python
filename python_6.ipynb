{
  "nbformat": 4,
  "nbformat_minor": 0,
  "metadata": {
    "colab": {
      "provenance": [],
      "authorship_tag": "ABX9TyOc6WCywUem3m9m1hJJSoF2",
      "include_colab_link": true
    },
    "kernelspec": {
      "name": "python3",
      "display_name": "Python 3"
    },
    "language_info": {
      "name": "python"
    }
  },
  "cells": [
    {
      "cell_type": "markdown",
      "metadata": {
        "id": "view-in-github",
        "colab_type": "text"
      },
      "source": [
        "<a href=\"https://colab.research.google.com/github/ABHIRAMI-2003/Introduction-to-Python/blob/main/python_6.ipynb\" target=\"_parent\"><img src=\"https://colab.research.google.com/assets/colab-badge.svg\" alt=\"Open In Colab\"/></a>"
      ]
    },
    {
      "cell_type": "code",
      "execution_count": null,
      "metadata": {
        "id": "M3fHGAJcMlMP",
        "colab": {
          "base_uri": "https://localhost:8080/"
        },
        "outputId": "fa09ed36-51d5-4c8c-f66e-303fa970a746"
      },
      "outputs": [
        {
          "output_type": "stream",
          "name": "stdout",
          "text": [
            "Enter a mark56\n",
            "PASS\n"
          ]
        }
      ],
      "source": [
        "x=int(input(\"Enter a mark\"))\n",
        "if x >50:\n",
        "  print(\"PASS\")"
      ]
    },
    {
      "cell_type": "code",
      "source": [
        "x=int(input(\"Enter a mark\"))\n",
        "if x >50:\n",
        "  print(\"PASS\")\n",
        "if x <50:\n",
        "  print(\"FAILED\")"
      ],
      "metadata": {
        "id": "9UylL2kmOCeN",
        "colab": {
          "base_uri": "https://localhost:8080/"
        },
        "outputId": "2efe0250-6f14-445b-e3c8-351cfdc96f0f"
      },
      "execution_count": null,
      "outputs": [
        {
          "output_type": "stream",
          "name": "stdout",
          "text": [
            "Enter a mark34\n",
            "FAILED\n"
          ]
        }
      ]
    },
    {
      "cell_type": "code",
      "source": [
        "x=int(input(\"Enter SALARY\"))\n",
        "if x >230000:\n",
        "  print(\"TAX\")\n",
        "if x <230000:\n",
        "  print(\"NO TAX\")"
      ],
      "metadata": {
        "colab": {
          "base_uri": "https://localhost:8080/"
        },
        "id": "7xtXpCgsQSdN",
        "outputId": "eb5c888a-accb-4179-f440-79b334a8e13d"
      },
      "execution_count": null,
      "outputs": [
        {
          "output_type": "stream",
          "name": "stdout",
          "text": [
            "Enter SALARY240000\n",
            "TAX\n"
          ]
        }
      ]
    },
    {
      "cell_type": "code",
      "source": [
        "x=int(input(\"Enter SALARY\"))\n",
        "if x>300000:\n",
        "  print(x-250000*10/100)\n",
        "  print(\"tax payable\")\n",
        "  \n",
        "   "
      ],
      "metadata": {
        "colab": {
          "base_uri": "https://localhost:8080/"
        },
        "id": "jCiKyKj0QgsI",
        "outputId": "b09d32c3-8c92-41ce-b5c9-1c4b77ce643c"
      },
      "execution_count": null,
      "outputs": [
        {
          "output_type": "stream",
          "name": "stdout",
          "text": [
            "Enter SALARY322000\n",
            "275000.0\n",
            "tax payable\n"
          ]
        }
      ]
    },
    {
      "cell_type": "code",
      "source": [
        "x=int(input(\"Enter SALARY\"))\n",
        "if x>=250000:\n",
        "  print(x*10/100)\n",
        "if x>500000:\n",
        "  print(x*20/100)\n",
        "  \n",
        "\n"
      ],
      "metadata": {
        "id": "4TeQrBOtTtLd",
        "colab": {
          "base_uri": "https://localhost:8080/"
        },
        "outputId": "a53b7ad3-e2ff-43f7-ab5e-36500b8653f3"
      },
      "execution_count": null,
      "outputs": [
        {
          "output_type": "stream",
          "name": "stdout",
          "text": [
            "Enter SALARY260000\n",
            "26000.0\n"
          ]
        }
      ]
    },
    {
      "cell_type": "code",
      "source": [
        "x=int(input(\"Enter SALARY\"))\n",
        "if x>250000 :\n",
        "  print((x-250000)*10/100)\n",
        "if x<250000:\n",
        "  print(\"No Tax\")\n",
        "if x>250000 and x<500000:\n",
        "  print((500000-250000)*10/100+(x-500000)*20/100)\n",
        "if x>500000 and x<750000:\n",
        "  print((x-750000)*30/100+(750000-500000)*20/100)\n",
        "  \n"
      ],
      "metadata": {
        "colab": {
          "base_uri": "https://localhost:8080/"
        },
        "id": "-qXDWpTEAsCN",
        "outputId": "3841b235-9af9-4e5c-9509-1f341ee2f00a"
      },
      "execution_count": null,
      "outputs": [
        {
          "output_type": "stream",
          "name": "stdout",
          "text": [
            "Enter SALARY600000\n",
            "35000.0\n",
            "5000.0\n"
          ]
        }
      ]
    },
    {
      "cell_type": "code",
      "source": [],
      "metadata": {
        "id": "zTRAOaHZDcNK"
      },
      "execution_count": null,
      "outputs": []
    }
  ]
}