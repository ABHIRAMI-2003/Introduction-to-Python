{
  "nbformat": 4,
  "nbformat_minor": 0,
  "metadata": {
    "colab": {
      "provenance": [],
      "authorship_tag": "ABX9TyN0dnjly8U0m3yRLMlDE97G",
      "include_colab_link": true
    },
    "kernelspec": {
      "name": "python3",
      "display_name": "Python 3"
    },
    "language_info": {
      "name": "python"
    }
  },
  "cells": [
    {
      "cell_type": "markdown",
      "metadata": {
        "id": "view-in-github",
        "colab_type": "text"
      },
      "source": [
        "<a href=\"https://colab.research.google.com/github/ABHIRAMI-2003/Introduction-to-Python/blob/main/python_3.ipynb\" target=\"_parent\"><img src=\"https://colab.research.google.com/assets/colab-badge.svg\" alt=\"Open In Colab\"/></a>"
      ]
    },
    {
      "cell_type": "code",
      "execution_count": 1,
      "metadata": {
        "colab": {
          "base_uri": "https://localhost:8080/"
        },
        "id": "Wee2nVLs71Gr",
        "outputId": "0d9d028a-efe4-43dd-80ed-68c76c059257"
      },
      "outputs": [
        {
          "output_type": "stream",
          "name": "stdout",
          "text": [
            "india is my country\n"
          ]
        }
      ],
      "source": [
        "x='india'\n",
        "y='is'\n",
        "z='my'\n",
        "a='country'\n",
        "print(x+' '+y+' '+z+' '+a)\n"
      ]
    },
    {
      "cell_type": "code",
      "source": [
        "x=10\n",
        "y=20\n",
        "print(x+y)\n",
        "print(type(x))"
      ],
      "metadata": {
        "colab": {
          "base_uri": "https://localhost:8080/"
        },
        "id": "-0nLrUIx8tUn",
        "outputId": "25645094-a4e1-44ae-b84a-51fee05a797b"
      },
      "execution_count": 2,
      "outputs": [
        {
          "output_type": "stream",
          "name": "stdout",
          "text": [
            "30\n",
            "<class 'int'>\n"
          ]
        }
      ]
    },
    {
      "cell_type": "code",
      "source": [
        "x=\"10\"\n",
        "y=\"20\"\n",
        "print(x+y)\n",
        "print(type(x))"
      ],
      "metadata": {
        "colab": {
          "base_uri": "https://localhost:8080/"
        },
        "id": "mgRp7l5M9Bky",
        "outputId": "0a490737-ac29-4194-bb09-2fb643a393bd"
      },
      "execution_count": 3,
      "outputs": [
        {
          "output_type": "stream",
          "name": "stdout",
          "text": [
            "1020\n",
            "<class 'str'>\n"
          ]
        }
      ]
    },
    {
      "cell_type": "code",
      "source": [
        "x=\"10\"\n",
        "y=\"20\"\n",
        "print(int(x)+int(y))\n",
        "print(type(x))\n"
      ],
      "metadata": {
        "colab": {
          "base_uri": "https://localhost:8080/"
        },
        "id": "Ot-zPlvs9bDk",
        "outputId": "8e0d6bb1-deb1-4fbb-cc40-19c2cf4e4afd"
      },
      "execution_count": 5,
      "outputs": [
        {
          "output_type": "stream",
          "name": "stdout",
          "text": [
            "30\n",
            "<class 'str'>\n"
          ]
        }
      ]
    },
    {
      "cell_type": "code",
      "source": [
        "x=input()\n",
        "print(x)"
      ],
      "metadata": {
        "colab": {
          "base_uri": "https://localhost:8080/"
        },
        "id": "g-rEq_oH-e1u",
        "outputId": "1205e248-ecdd-43bf-efbd-fa0b146a4d34"
      },
      "execution_count": 11,
      "outputs": [
        {
          "output_type": "stream",
          "name": "stdout",
          "text": [
            "10\n",
            "10\n"
          ]
        }
      ]
    },
    {
      "cell_type": "code",
      "source": [
        "x=input()\n",
        "print(\"value of x is\",x)"
      ],
      "metadata": {
        "colab": {
          "base_uri": "https://localhost:8080/"
        },
        "id": "bd9qxac--nbM",
        "outputId": "bf7a4000-b085-4900-8077-bdb3cff0938f"
      },
      "execution_count": 12,
      "outputs": [
        {
          "output_type": "stream",
          "name": "stdout",
          "text": [
            "3\n",
            "value of x is 3\n"
          ]
        }
      ]
    },
    {
      "cell_type": "code",
      "source": [
        "x=input()\n",
        "print(type(x))"
      ],
      "metadata": {
        "colab": {
          "base_uri": "https://localhost:8080/"
        },
        "id": "hYnFyN-f_evo",
        "outputId": "9454f3b1-0a6b-46c2-af2e-45b232424fea"
      },
      "execution_count": 13,
      "outputs": [
        {
          "output_type": "stream",
          "name": "stdout",
          "text": [
            "10\n",
            "<class 'str'>\n"
          ]
        }
      ]
    },
    {
      "cell_type": "code",
      "source": [
        "x=input()\n",
        "print(type(x))\n"
      ],
      "metadata": {
        "colab": {
          "base_uri": "https://localhost:8080/"
        },
        "id": "sdC4VCisBiys",
        "outputId": "8dadd75f-6d66-4682-92c5-965adb1b7001"
      },
      "execution_count": 14,
      "outputs": [
        {
          "output_type": "stream",
          "name": "stdout",
          "text": [
            "abhirami\n",
            "<class 'str'>\n"
          ]
        }
      ]
    },
    {
      "cell_type": "code",
      "source": [
        "x=input()\n",
        "print(type(x))"
      ],
      "metadata": {
        "colab": {
          "base_uri": "https://localhost:8080/"
        },
        "id": "AYxQABRFB2WD",
        "outputId": "a8903f06-9be9-4563-e2b8-da4dc20c2fc9"
      },
      "execution_count": 15,
      "outputs": [
        {
          "output_type": "stream",
          "name": "stdout",
          "text": [
            "10.5\n",
            "<class 'str'>\n"
          ]
        }
      ]
    },
    {
      "cell_type": "code",
      "source": [
        "x=int(input(\"Enter a number\"))\n",
        "print(type(x))"
      ],
      "metadata": {
        "colab": {
          "base_uri": "https://localhost:8080/"
        },
        "id": "XMT_MF8-CAoM",
        "outputId": "5e66bc74-422d-46c7-dcdb-5c91cabd7e63"
      },
      "execution_count": 16,
      "outputs": [
        {
          "output_type": "stream",
          "name": "stdout",
          "text": [
            "Enter a number20\n",
            "<class 'int'>\n"
          ]
        }
      ]
    },
    {
      "cell_type": "code",
      "source": [
        "x=int(input(\"Enter a first number\"))\n",
        "y=int(input(\"Enter a second number\"))\n",
        "print(x+y)\n",
        "print(x/y)\n",
        "print(x*y)\n",
        "print(x-y)\n",
        "print(type(x))"
      ],
      "metadata": {
        "colab": {
          "base_uri": "https://localhost:8080/"
        },
        "id": "gKlmDOdaDfSs",
        "outputId": "370c004f-7d57-496c-d479-d0e367c5f5e1"
      },
      "execution_count": 17,
      "outputs": [
        {
          "output_type": "stream",
          "name": "stdout",
          "text": [
            "Enter a first number20\n",
            "Enter a second number10\n",
            "30\n",
            "2.0\n",
            "200\n",
            "10\n",
            "<class 'int'>\n"
          ]
        }
      ]
    },
    {
      "cell_type": "code",
      "source": [
        "x=int(input(\"Enter a first number\"))\n",
        "y=int(input(\"Enter a second number\"))\n",
        "print(x+y)\n",
        "print(x/y)\n",
        "print(x*y)\n",
        "print(x-y)\n",
        "print(type(x))\n",
        "print(type(y))\n",
        "print(type(x+y))\n",
        "print(type(x/y))\n",
        "print(type(x*y))\n",
        "print(type(x-y))\n"
      ],
      "metadata": {
        "colab": {
          "base_uri": "https://localhost:8080/"
        },
        "id": "mt5OEwHBEIg9",
        "outputId": "4490236c-17f2-4b4f-d6d0-f45c45d584c4"
      },
      "execution_count": 18,
      "outputs": [
        {
          "output_type": "stream",
          "name": "stdout",
          "text": [
            "Enter a first number30\n",
            "Enter a second number10\n",
            "40\n",
            "3.0\n",
            "300\n",
            "20\n",
            "<class 'int'>\n",
            "<class 'int'>\n",
            "<class 'int'>\n"
          ]
        }
      ]
    },
    {
      "cell_type": "code",
      "source": [],
      "metadata": {
        "id": "mcL_v1bLEhul"
      },
      "execution_count": null,
      "outputs": []
    }
  ]
}